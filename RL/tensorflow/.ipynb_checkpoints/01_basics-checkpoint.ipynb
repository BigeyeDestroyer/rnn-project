{
 "cells": [
  {
   "cell_type": "code",
   "execution_count": 1,
   "metadata": {
    "collapsed": false
   },
   "outputs": [
    {
     "name": "stdout",
     "output_type": "stream",
     "text": [
      "discarding /Users/ray/anaconda/bin from PATH\n",
      "prepending /Users/ray/anaconda/envs/tensorflow/bin to PATH\n"
     ]
    }
   ],
   "source": [
    "!source activate tensorflow"
   ]
  },
  {
   "cell_type": "code",
   "execution_count": 2,
   "metadata": {
    "collapsed": false
   },
   "outputs": [],
   "source": [
    "import tensorflow as tf\n",
    "import matplotlib.pyplot as plt"
   ]
  },
  {
   "cell_type": "code",
   "execution_count": 3,
   "metadata": {
    "collapsed": true
   },
   "outputs": [],
   "source": [
    "# tf.Graph represents a collection of tf.Operations\n",
    "# You can create operations by writing out equations.\n",
    "# By default, there is a graph: tf.get_default_graph()\n",
    "# and any new operations are added to this graph.\n",
    "# The result of a tf.Operation is a tf.Tensor, which holds\n",
    "# the values."
   ]
  },
  {
   "cell_type": "code",
   "execution_count": 4,
   "metadata": {
    "collapsed": true
   },
   "outputs": [],
   "source": [
    "# %% First a tf.Tensor\n",
    "n_values = 32\n",
    "x = tf.linspace(-3.0, 3.0, n_values)"
   ]
  },
  {
   "cell_type": "code",
   "execution_count": 10,
   "metadata": {
    "collapsed": false
   },
   "outputs": [],
   "source": [
    "# %% method 1: Construct a tf.Session to execute the graph \n",
    "sess = tf.Session()\n",
    "result = sess.run(x)"
   ]
  },
  {
   "cell_type": "code",
   "execution_count": 13,
   "metadata": {
    "collapsed": false
   },
   "outputs": [
    {
     "data": {
      "text/plain": [
       "array([-3.        , -2.80645156, -2.61290312, -2.41935492, -2.22580647,\n",
       "       -2.03225803, -1.83870971, -1.64516139, -1.45161295, -1.25806451,\n",
       "       -1.06451619, -0.87096786, -0.67741942, -0.48387098, -0.29032278,\n",
       "       -0.09677434,  0.0967741 ,  0.29032254,  0.48387098,  0.67741919,\n",
       "        0.87096763,  1.06451607,  1.25806427,  1.45161295,  1.64516115,\n",
       "        1.83870935,  2.03225803,  2.22580624,  2.41935444,  2.61290312,\n",
       "        2.80645132,  3.        ], dtype=float32)"
      ]
     },
     "execution_count": 13,
     "metadata": {},
     "output_type": "execute_result"
    }
   ],
   "source": [
    "# %% method 2: Alternatively pass a session to the eval fn\n",
    "x.eval(session=sess)"
   ]
  },
  {
   "cell_type": "code",
   "execution_count": null,
   "metadata": {
    "collapsed": true
   },
   "outputs": [],
   "source": []
  }
 ],
 "metadata": {
  "kernelspec": {
   "display_name": "Python 2",
   "language": "python",
   "name": "python2"
  },
  "language_info": {
   "codemirror_mode": {
    "name": "ipython",
    "version": 2
   },
   "file_extension": ".py",
   "mimetype": "text/x-python",
   "name": "python",
   "nbconvert_exporter": "python",
   "pygments_lexer": "ipython2",
   "version": "2.7.11"
  }
 },
 "nbformat": 4,
 "nbformat_minor": 0
}
