{
 "metadata": {
  "name": "",
  "signature": "sha256:412abc8859bdad582e987aca156f50c0fcad537fc0d6dbbba20c8502c62ec09b"
 },
 "nbformat": 3,
 "nbformat_minor": 0,
 "worksheets": [
  {
   "cells": [
    {
     "cell_type": "markdown",
     "metadata": {},
     "source": [
      "$$\n",
      "\\newcommand{\\memory}{\\mathbf{M}}\n",
      "\\newcommand{\\read}{\\mathbf{r}}\n",
      "\\newcommand{\\erase}{\\mathbf{e}}\n",
      "\\newcommand{\\add}{\\mathbf{a}}\n",
      "\\newcommand{\\weight}{\\mathbf{w}}\n",
      "\\newcommand{\\key}{\\mathbf{k}}\n",
      "\\newcommand{\\shift}{\\mathbf{s}}\n",
      "\\newcommand{\\Shift}{\\mathbf{S}}\n",
      "$$\n",
      "\n",
      "Some time last week, [a paper](http://arxiv.org/abs/1410.5401) from Google DeepMind caught my attention.\n",
      "\n",
      "The paper is of particular interest to me because I've been thinking about how a recurrent neural network could learn to have access to an external form of memory. The approach taken here is interesting as it makes use of a balance between seeking using similarity of content, and shifting from that using location.\n",
      "\n",
      "My focus this time would be on some of the details needed for implementation. Some of these specifics are glossed over in the paper, and I'll try to infer whatever I can and, perhaps in the next post, have code (in Theano, what else?) to present."
     ]
    },
    {
     "cell_type": "markdown",
     "metadata": {},
     "source": [
      "## Reading and Writing\n",
      "\n",
      "The memory matrix, $\\memory_t$, is modified at every time step, and this is interacted with via _heads_: reading ($\\read_t$), writing: erase ($\\erase_t$) and add ($\\add_t$). This is similar to the mechanisms used in Long Short-term Memory (LSTM) units, just with a slight change in naming - _write_ is now _add_ due to a clash in naming as there is a new weighting vector ($\\weight_t$)."
     ]
    },
    {
     "cell_type": "markdown",
     "metadata": {},
     "source": [
      "$$\n",
      "\\begin{align}\n",
      "    \\memory_t\n",
      "    &= \\left[\\begin{array}{ccc}\n",
      "    \\memory_t(0)_0 & \\cdots & \\memory_t(0)_{N-1}\\\\\n",
      "    \\vdots & \\ddots & \\vdots \\\\\n",
      "    \\memory_t(i)_0 & \\cdots & \\memory_t(i)_{N-1}\\\\\n",
      "    \\vdots & \\ddots & \\vdots \\\\\n",
      "    \\memory_t(M-1)_0 & \\cdots & \\memory_t(M-1)_{N-1}\\\\\n",
      "    \\end{array}\\right]\n",
      "&\n",
      "   \\weight_t &= \\left[ \\begin{array}{c}\n",
      "    w_t(0)\\\\\n",
      "    \\vdots\\\\\n",
      "    w_t(i)\\\\\n",
      "    \\vdots\\\\\n",
      "    w_t(M-1)\n",
      "    \\end{array}\\right]\n",
      "\\\\\n",
      "\\read_t \n",
      "    &= ~\\left[ \\begin{array}{ccc}\n",
      "    ~~~r_{0}~~~ & ~~~\\cdots~~~ & ~~~r_{N-1}~~~\n",
      "    \\end{array}\\right]\n",
      "\\\\\n",
      "\\erase_t \n",
      "    &= ~\\left[ \\begin{array}{ccc}\n",
      "    ~~~e_{0}~~~ & ~~~\\cdots~~~ & ~~~e_{N-1}~~~\n",
      "    \\end{array}\\right]\n",
      "\\\\\n",
      "\\add_t \n",
      "    &= ~\\left[ \\begin{array}{ccc}\n",
      "    ~~~a_{0}~~~ & ~~~\\cdots~~~ & ~~~a_{N-1}~~~\n",
      "    \\end{array}\\right]\n",
      "\\end{align}\n",
      "$$\n"
     ]
    },
    {
     "cell_type": "markdown",
     "metadata": {},
     "source": [
      "Hopefully that should give you an idea of what goes where, and at the same time, give you a clue what their purposes are. The general idea here is to use $\\weight_t$ as a focusing mechanism to select the _row_, and $\\read_t$, $\\erase_t$ and $\\add_t$ perform their individual roles _element_ wise in $\\memory_t(i)$.\n",
      "\n",
      "Here's where I find this interesting. If we were to try and write some sort of automaton that does this, we would perform the read/write at one location. However, in order for this to be able to be \"end-to-end\" differentiable, the authors have made $\\weight_t$ a _distribution_ over positions, $\\sum \\weight_t = 1$. This is a technique that is used pretty consistently throughout the different mechanisms in the NTM."
     ]
    },
    {
     "cell_type": "markdown",
     "metadata": {},
     "source": [
      "## Addressing\n",
      "\n",
      "Still on the topic of $\\weight_t$, let me try and give a brief overview of what the authors are trying to achieve with their very... convoluted (forgive the pun) way of computing it at every time step.\n",
      "\n",
      "In order for the controller to be able to perform any _useful_ action on $\\memory_t$, it needs to be able to take in an input from the input sequence, and then translate (by which I mean predict) that to some sort of key ($\\key_t$) that it can look up. After that, merely picking out that particular value may not be particularly useful, since we could possibly have just used the prediction. We might need to shift ($\\shift_t$) before or after that memory location to find something useful for computation. You could imagine a sort of table where keys and values are stored $k_0,v_0,\\cdots,k_N,v_N$ in succession, then when we look up $k_i$ and that is at location $2i$, then $v_i$ would be at location $2i+1$, requiring an address shift by 1.\n",
      "\n",
      "Let's now take a closer look at how this $\\weight_t$ is computed at each time step."
     ]
    },
    {
     "cell_type": "markdown",
     "metadata": {},
     "source": [
      "#### Content-based using $\\key_t$ and $\\beta_t$ to $\\weight_t^c$\n",
      "\n",
      "So, say our mysterious controller predicts a vector $\\key_t$. Again, with the table analogy, we look up $\\memory_t$ to find the entry most similar to $\\key_t$, but we have to do this _probabilistically_. The authors do this by using a similarity function (in this case cosine similarity) and computing similarity with $\\key_t$ over all entries in $\\memory_t$. They then slapping a softmax over the computed values. This gives us $\\weight_t^c$, which is just an intermediate value before the final weight vector is computed."
     ]
    },
    {
     "cell_type": "markdown",
     "metadata": {},
     "source": [
      "#### Shifting values using $\\shift_t$ to $\\weight_t$\n",
      "\n",
      "Now that we have a weighting for content-based addressing, we need to allow the controller to decide if it needs to use that, or to just perform a shift from the weighting from the previous time step. Predictably, the way the authors have achieved this is using the \"expected\" value ($\\weight^g_t$) of $\\weight_{t-1}$ and $\\weight^c_t$ weighted by $g_t$ and $1-g_t$.\n",
      "\n",
      "Okay, so time to shift $\\weight^g_t$ _probabilistically_. It goes without saying then that $\\sum\\shift_t = 1$. The paper describes this shift as,\n",
      "$$\\widetilde{w}_t(i) = \\sum^{N-1}_{j=0} w^g_t(j)\\cdot s_t(i-j)$$\n"
     ]
    },
    {
     "cell_type": "markdown",
     "metadata": {},
     "source": [
      "There might be a simpler way to see how this works in vectorised form. We could use $\\shift_t$ to describe a matrix $\\Shift_t$,\n",
      "\n",
      "$$\\Shift_t = \n",
      "\\left[\\begin{array}{ccc}\n",
      "s_t(0)   & s_t(N-1) & \\cdots & s_t(2) & s_t(1) \\\\\n",
      "s_t(1)   & s_t(0)   & s_t(N-1) & \\cdots & s_t(2) \\\\\n",
      "\\vdots   & s_t(1)   & s_t(0)   & \\ddots & s_t(2) \\\\\n",
      "s_t(N-2) &          & \\ddots   & \\ddots & s_t(N-1) \\\\\n",
      "s_t(N-1) & s_t(N-2) & \\cdots   & s_t(1) & s_t(0) \\\\\n",
      "\\end{array}\\right]\n",
      "$$\n",
      "\n",
      "in which case, then the final computation would just be,\n",
      "$$ \\widetilde{\\weight}_t = \\Shift_t\\weight^g_t$$ "
     ]
    },
    {
     "cell_type": "markdown",
     "metadata": {},
     "source": [
      "As a final step, they power up the values of $\\widetilde{\\weight}_t$ by $\\gamma_t$, and then renormalise to get the final $\\weight_t$."
     ]
    },
    {
     "cell_type": "markdown",
     "metadata": {},
     "source": [
      "## The Controller\n",
      "\n",
      "So what's this controller that keeps popping up? We could think of it as the CPU of the entire system, deciding what to read and write to memory. In the paper, the authors experiment with using an LSTM neural network and a standard feed-forward network for this purpose.\n",
      "\n",
      "More importantly for us, we need to figure out what the input and the output is for this network in order to implement anything. So to summarise the above, here are the inputs and outputs, along with whatever constraints that may be attached to them."
     ]
    },
    {
     "cell_type": "markdown",
     "metadata": {},
     "source": [
      "Inputs:\n",
      "$$\n",
      "\\begin{align}\n",
      "\\mathbf{i}_t,\\read_t &\\in \\mathbb{R}^N \\\\\n",
      "\\end{align}\n",
      "$$\n"
     ]
    },
    {
     "cell_type": "markdown",
     "metadata": {},
     "source": [
      "Outputs:\n",
      "$$\n",
      "\\begin{align}\n",
      "\\erase_t,\\add_t,\\key_t  &\\in (0,1)^N \\\\\n",
      "\\shift_t &\\in (0,1)^N,  & \\sum_i& s_t(i) = 1 \\\\\n",
      " \\beta_t &\\in \\mathbb{R}^+ & \\gamma_t & \\in\\mathbb{R}^{\\ge 1} \\\\\n",
      "        &               & g_t & \\in  (0,1) \\\\\n",
      "\\end{align}\n",
      "$$\n"
     ]
    },
    {
     "cell_type": "markdown",
     "metadata": {},
     "source": [
      "At every time step, these are the things fed into the controller, and the outputs with which we use to manipulate $\\memory_t$.\n",
      "\n",
      "And I think that's all we need! I'll look at implementing this over the weekend, and we'll see if we can achieve similar results."
     ]
    }
   ],
   "metadata": {}
  }
 ]
}