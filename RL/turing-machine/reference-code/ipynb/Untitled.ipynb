{
 "cells": [
  {
   "cell_type": "markdown",
   "metadata": {},
   "source": [
    "## Attention location shift\n",
    "\n",
    "The paper represented the shift using this formula:\n",
    "\n",
    "$$\\widetilde{w}_t(i) = \\sum^{N-1}_{j=0} w^g_t(j)\\cdot s_t(i-j)$$\n",
    "\n",
    "This assumes that the shift from the content addressing can shift from the current location to $N$ slots away, where $N$ is the size of the memory slots."
   ]
  },
  {
   "cell_type": "markdown",
   "metadata": {},
   "source": [
    "However, if you restrict the shifts to be -1 and +1 from the current location, then $j$ goes from -1 to 1. Another way to think about it is that for $-1 \\leq j \\leq 1$  $w^g_t(j)$ sums to 1, and is 0 everywhere else. This is all under the assumption that $i - j$ wraps around."
   ]
  },
  {
   "cell_type": "markdown",
   "metadata": {},
   "source": [
    "My implementation of this in Theano was to use an indexing trick to do a sort of convolution over the attention distribution. This works by first getting a matrix of this form:"
   ]
  },
  {
   "cell_type": "code",
   "execution_count": 4,
   "metadata": {
    "collapsed": false
   },
   "outputs": [
    {
     "data": {
      "text/plain": [
       "array([0, 1, 2, 3, 4, 5, 6, 7, 8, 9])"
      ]
     },
     "execution_count": 4,
     "metadata": {},
     "output_type": "execute_result"
    }
   ],
   "source": [
    "import numpy as np\n",
    "import scipy.linalg\n",
    "idxs = np.arange(10)\n",
    "idxs"
   ]
  },
  {
   "cell_type": "code",
   "execution_count": 12,
   "metadata": {
    "collapsed": false
   },
   "outputs": [
    {
     "data": {
      "text/plain": [
       "array([[1, 2, 3, 4, 5, 6, 7, 8, 9, 0],\n",
       "       [0, 1, 2, 3, 4, 5, 6, 7, 8, 9],\n",
       "       [9, 0, 1, 2, 3, 4, 5, 6, 7, 8]])"
      ]
     },
     "execution_count": 12,
     "metadata": {},
     "output_type": "execute_result"
    }
   ],
   "source": [
    "conv_idxs = scipy.linalg.circulant(idxs).T\n",
    "conv_idxs[np.arange(-1,2)]"
   ]
  },
  {
   "cell_type": "markdown",
   "metadata": {},
   "source": [
    "The ``scipy.linalg.circulant`` gives a circulant matrix of $N$ x $N$ given a size $N$ input vector. It basically rotates the same vector around $N$ steps.\n",
    "\n",
    "This gives you an index over the attention you are trying to modify, so indexing a vector using a index matrix such as this gives you a new matrix of the same shape as the index matrix. As an example:"
   ]
  },
  {
   "cell_type": "code",
   "execution_count": 25,
   "metadata": {
    "collapsed": false
   },
   "outputs": [
    {
     "name": "stdout",
     "output_type": "stream",
     "text": [
      "[7 8 0 5 7 5 7 6 7 8]\n",
      "\n",
      "[[8 0 5 7 5 7 6 7 8 7]\n",
      " [7 8 0 5 7 5 7 6 7 8]\n",
      " [8 7 8 0 5 7 5 7 6 7]]\n"
     ]
    }
   ],
   "source": [
    "data = np.random.randint(10,size=10)\n",
    "windowed_idxs = conv_idxs[np.arange(-1,2)]\n",
    "print data\n",
    "print\n",
    "print data[windowed_idxs]"
   ]
  },
  {
   "cell_type": "markdown",
   "metadata": {},
   "source": [
    "So now that we have a matrix that scans over the previous attention, the shifted attention is just a matrix multiplication between the output from the shift part of the head, and this new matrix. Again, I rely heavily on Theano to give the right gradient calculations for this, so this works well, and I can then generalise this to larger windows easily."
   ]
  }
 ],
 "metadata": {
  "kernelspec": {
   "display_name": "Python 2",
   "language": "python2",
   "name": "python2"
  },
  "language_info": {
   "codemirror_mode": {
    "name": "ipython",
    "version": 2
   },
   "file_extension": ".py",
   "mimetype": "text/x-python",
   "name": "python",
   "nbconvert_exporter": "python",
   "pygments_lexer": "ipython2",
   "version": "2.7.10"
  }
 },
 "nbformat": 4,
 "nbformat_minor": 0
}
